{
 "cells": [
  {
   "cell_type": "markdown",
   "metadata": {},
   "source": [
    "The data contains three different measures of IQ test for individuals: FSIQ, VIQ, PIQ. For each individual, in addition to those three IQ measures, his or her gender, weight, height, and MRI. Please use Pandas (don't forget to review it!) and Scipy to answer the following question:\n",
    "\n",
    "1) Does VIQ and PIQ made any difference in measuring individual's IQ? \n",
    "\n",
    "2) Does female or male have any difference in IQ, using FSIQ measure?\n",
    "\n",
    "For each question, please clearly a) indicate your H0 and HA, b) the type of t-test, c) your interpretation of t-test results and answer to the question. You may want to see Rubrics for details as well. "
   ]
  },
  {
   "cell_type": "markdown",
   "metadata": {},
   "source": [
    "# 1) Does VIQ and PIQ made any difference in measuring individual's IQ?"
   ]
  },
  {
   "cell_type": "markdown",
   "metadata": {},
   "source": [
    "a)\n",
    "\n",
    "H0: VIQ and PIQ made no difference in measing Individual's IQ\n",
    "\n",
    "HA: VIQ and PIQ made a difference in measuring Individual's IQ"
   ]
  },
  {
   "cell_type": "markdown",
   "metadata": {},
   "source": [
    "b)\n",
    "\n",
    "The type of t-test: We are going to use Two-tail Independent t-test, first we have to check if the variances are equal to know the homogeneity. We do not however need to check for the normality since the sample size greater than 30. It is an Independent Sample Two- Tail t-test with equal variance"
   ]
  },
  {
   "cell_type": "code",
   "execution_count": 2,
   "metadata": {},
   "outputs": [],
   "source": [
    "from scipy import stats"
   ]
  },
  {
   "cell_type": "code",
   "execution_count": 3,
   "metadata": {},
   "outputs": [],
   "source": [
    "import pandas as pd"
   ]
  },
  {
   "cell_type": "code",
   "execution_count": 34,
   "metadata": {},
   "outputs": [],
   "source": [
    "df=pd.read_csv('brain_size.csv',delimiter=';')"
   ]
  },
  {
   "cell_type": "code",
   "execution_count": 7,
   "metadata": {},
   "outputs": [
    {
     "name": "stdout",
     "output_type": "stream",
     "text": [
      "['Unnamed: 0' 'Gender' 'FSIQ' 'VIQ' 'PIQ' 'Weight' 'Height' 'MRI_Count']\n"
     ]
    }
   ],
   "source": [
    "print (df.columns.values)"
   ]
  },
  {
   "cell_type": "code",
   "execution_count": 35,
   "metadata": {},
   "outputs": [
    {
     "name": "stdout",
     "output_type": "stream",
     "text": [
      "<class 'pandas.core.frame.DataFrame'>\n",
      "RangeIndex: 40 entries, 0 to 39\n",
      "Data columns (total 8 columns):\n",
      "Unnamed: 0    40 non-null int64\n",
      "Gender        40 non-null object\n",
      "FSIQ          40 non-null int64\n",
      "VIQ           40 non-null int64\n",
      "PIQ           40 non-null int64\n",
      "Weight        40 non-null object\n",
      "Height        40 non-null object\n",
      "MRI_Count     40 non-null int64\n",
      "dtypes: int64(5), object(3)\n",
      "memory usage: 2.6+ KB\n",
      "None\n",
      "(40, 8)\n",
      "   Unnamed: 0  Gender  FSIQ  VIQ  PIQ Weight Height  MRI_Count\n",
      "0           1  Female   133  132  124    118   64.5     816932\n",
      "1           2    Male   140  150  124      .   72.5    1001121\n",
      "2           3    Male   139  123  150    143   73.3    1038437\n",
      "3           4    Male   133  129  128    172   68.8     965353\n",
      "4           5  Female   137  132  134    147   65.0     951545\n"
     ]
    }
   ],
   "source": [
    "print (df.info())\n",
    "print (df.shape)\n",
    "print (df.head())"
   ]
  },
  {
   "cell_type": "markdown",
   "metadata": {},
   "source": [
    "We need to check to make sure that the variance is for sure true, although we know that the samples size > 30"
   ]
  },
  {
   "cell_type": "code",
   "execution_count": 10,
   "metadata": {},
   "outputs": [
    {
     "name": "stdout",
     "output_type": "stream",
     "text": [
      "0    132\n",
      "1    150\n",
      "2    123\n",
      "3    129\n",
      "4    132\n",
      "Name: VIQ, dtype: int64\n",
      "0    124\n",
      "1    124\n",
      "2    150\n",
      "3    128\n",
      "4    134\n",
      "Name: PIQ, dtype: int64\n"
     ]
    }
   ],
   "source": [
    "print (df['VIQ'].head())\n",
    "print (df['PIQ'].head())"
   ]
  },
  {
   "cell_type": "code",
   "execution_count": 12,
   "metadata": {},
   "outputs": [
    {
     "data": {
      "text/plain": [
       "LeveneResult(statistic=0.3079442756225574, pvalue=0.5805323134178415)"
      ]
     },
     "execution_count": 12,
     "metadata": {},
     "output_type": "execute_result"
    }
   ],
   "source": [
    "stats.levene(df['VIQ'],df['PIQ']) #this was done just to make sure that variance was indeed true,\n",
    "# although I know there is no need to check for this since the sample size is greater than 30"
   ]
  },
  {
   "cell_type": "markdown",
   "metadata": {},
   "source": [
    " It is an Independent Sample Two- Tail t-test with equal variance after double checking with the levene Test"
   ]
  },
  {
   "cell_type": "code",
   "execution_count": 47,
   "metadata": {},
   "outputs": [
    {
     "data": {
      "text/plain": [
       "Ttest_indResult(statistic=0.2570673685607642, pvalue=0.7978036781233253)"
      ]
     },
     "execution_count": 47,
     "metadata": {},
     "output_type": "execute_result"
    }
   ],
   "source": [
    "stats.ttest_ind(df['VIQ'],df['PIQ'],equal_var=True)"
   ]
  },
  {
   "cell_type": "markdown",
   "metadata": {},
   "source": [
    "c)\n",
    "\n",
    "Since this is two-tail t-test, we can see from this that the p-value is greater than 0.05, thereby signifying that we have failed to reject the H0: VIQ and PIQ made no difference in measuring Individual's IQ. \n",
    "\n",
    "As a result of this, we say that VIQ and PIQ made no difference in measuring Individual's IQ."
   ]
  },
  {
   "cell_type": "markdown",
   "metadata": {},
   "source": [
    "# 2) Does female or male have any difference in IQ, using FSIQ measure?"
   ]
  },
  {
   "cell_type": "markdown",
   "metadata": {},
   "source": [
    "a)\n",
    "\n",
    "H0: Female or male has no difference in IQ, using FSIQ measure\n",
    "\n",
    "HA: Female or male has a difference in IQ, using FSIQ measure. "
   ]
  },
  {
   "cell_type": "markdown",
   "metadata": {},
   "source": [
    "b)\n",
    "\n",
    "The type of t-test: We are going to use Two-tail Independent t-test, We do not however need to check for the normality and homogeniety since the sample size greater than 30. It is an Independent Sample Two- Tail t-test with equal variance"
   ]
  },
  {
   "cell_type": "code",
   "execution_count": 30,
   "metadata": {},
   "outputs": [
    {
     "name": "stdout",
     "output_type": "stream",
     "text": [
      "0    0\n",
      "1    1\n",
      "2    1\n",
      "3    1\n",
      "4    0\n",
      "Name: Gender, dtype: int64\n",
      "0    133\n",
      "1    140\n",
      "2    139\n",
      "3    133\n",
      "4    137\n",
      "Name: FSIQ, dtype: int64\n"
     ]
    }
   ],
   "source": [
    "print (df['Gender'].head())\n",
    "print (df['FSIQ'].head())"
   ]
  },
  {
   "cell_type": "code",
   "execution_count": 36,
   "metadata": {},
   "outputs": [],
   "source": [
    "df['Gender'] = df['Gender'].replace({'Male':1, 'Female':0})"
   ]
  },
  {
   "cell_type": "code",
   "execution_count": 26,
   "metadata": {},
   "outputs": [
    {
     "name": "stdout",
     "output_type": "stream",
     "text": [
      "0    0\n",
      "1    1\n",
      "2    1\n",
      "3    1\n",
      "4    0\n",
      "Name: Gender, dtype: int64\n",
      "0    133\n",
      "1    140\n",
      "2    139\n",
      "3    133\n",
      "4    137\n",
      "Name: FSIQ, dtype: int64\n"
     ]
    }
   ],
   "source": [
    "print (df['Gender'].head())\n",
    "print (df['FSIQ'].head())"
   ]
  },
  {
   "cell_type": "code",
   "execution_count": 45,
   "metadata": {},
   "outputs": [
    {
     "data": {
      "text/plain": [
       "Ttest_indResult(statistic=-29.656944814062182, pvalue=3.1560245547474797e-44)"
      ]
     },
     "execution_count": 45,
     "metadata": {},
     "output_type": "execute_result"
    }
   ],
   "source": [
    "stats.ttest_ind(df['Gender'],df['FSIQ'],equal_var=True)"
   ]
  },
  {
   "cell_type": "markdown",
   "metadata": {},
   "source": [
    "c) \n",
    "\n",
    "Since the p-value is less than 0.05, we reject the H0 and accept HA. \n",
    "\n",
    "This means that Gender(Female or Male) does have a difference in individual's IQ using the FSIQ measure."
   ]
  }
 ],
 "metadata": {
  "kernelspec": {
   "display_name": "Python 3",
   "language": "python",
   "name": "python3"
  },
  "language_info": {
   "codemirror_mode": {
    "name": "ipython",
    "version": 3
   },
   "file_extension": ".py",
   "mimetype": "text/x-python",
   "name": "python",
   "nbconvert_exporter": "python",
   "pygments_lexer": "ipython3",
   "version": "3.7.4"
  }
 },
 "nbformat": 4,
 "nbformat_minor": 2
}
